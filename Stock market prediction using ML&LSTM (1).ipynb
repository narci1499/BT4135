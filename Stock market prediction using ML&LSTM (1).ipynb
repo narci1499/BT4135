{
 "cells": [
  {
   "cell_type": "code",
   "execution_count": 3,
   "metadata": {
    "executionInfo": {
     "elapsed": 2890,
     "status": "ok",
     "timestamp": 1652157389179,
     "user": {
      "displayName": "Prashant Katiyar",
      "userId": "08877928266948882279"
     },
     "user_tz": -330
    },
    "id": "MHq-ksQDwSIN"
   },
   "outputs": [],
   "source": [
    "import pandas as pd\n",
    "import numpy as np\n",
    "import matplotlib.pyplot as plt\n",
    "from sklearn.preprocessing import MinMaxScaler\n",
    "from keras.models import Sequential, load_model\n",
    "from keras.layers import LSTM, Dense, Dropout"
   ]
  },
  {
   "cell_type": "code",
   "execution_count": null,
   "metadata": {},
   "outputs": [],
   "source": []
  },
  {
   "cell_type": "code",
   "execution_count": null,
   "metadata": {},
   "outputs": [],
   "source": []
  },
  {
   "cell_type": "code",
   "execution_count": 4,
   "metadata": {
    "colab": {
     "base_uri": "https://localhost:8080/",
     "height": 206
    },
    "executionInfo": {
     "elapsed": 530,
     "status": "ok",
     "timestamp": 1652157407541,
     "user": {
      "displayName": "Prashant Katiyar",
      "userId": "08877928266948882279"
     },
     "user_tz": -330
    },
    "id": "X4oZKkU8x7Mt",
    "outputId": "49558d40-eab9-412a-de57-1298f29a7a15"
   },
   "outputs": [
    {
     "data": {
      "text/html": [
       "<div>\n",
       "<style scoped>\n",
       "    .dataframe tbody tr th:only-of-type {\n",
       "        vertical-align: middle;\n",
       "    }\n",
       "\n",
       "    .dataframe tbody tr th {\n",
       "        vertical-align: top;\n",
       "    }\n",
       "\n",
       "    .dataframe thead th {\n",
       "        text-align: right;\n",
       "    }\n",
       "</style>\n",
       "<table border=\"1\" class=\"dataframe\">\n",
       "  <thead>\n",
       "    <tr style=\"text-align: right;\">\n",
       "      <th></th>\n",
       "      <th>Date</th>\n",
       "      <th>Open</th>\n",
       "      <th>High</th>\n",
       "      <th>Low</th>\n",
       "      <th>Close</th>\n",
       "      <th>Volume</th>\n",
       "    </tr>\n",
       "  </thead>\n",
       "  <tbody>\n",
       "    <tr>\n",
       "      <th>0</th>\n",
       "      <td>1/3/2012</td>\n",
       "      <td>325.25</td>\n",
       "      <td>332.83</td>\n",
       "      <td>324.97</td>\n",
       "      <td>663.59</td>\n",
       "      <td>7,380,500</td>\n",
       "    </tr>\n",
       "    <tr>\n",
       "      <th>1</th>\n",
       "      <td>1/4/2012</td>\n",
       "      <td>331.27</td>\n",
       "      <td>333.87</td>\n",
       "      <td>329.08</td>\n",
       "      <td>666.45</td>\n",
       "      <td>5,749,400</td>\n",
       "    </tr>\n",
       "    <tr>\n",
       "      <th>2</th>\n",
       "      <td>1/5/2012</td>\n",
       "      <td>329.83</td>\n",
       "      <td>330.75</td>\n",
       "      <td>326.89</td>\n",
       "      <td>657.21</td>\n",
       "      <td>6,590,300</td>\n",
       "    </tr>\n",
       "    <tr>\n",
       "      <th>3</th>\n",
       "      <td>1/6/2012</td>\n",
       "      <td>328.34</td>\n",
       "      <td>328.77</td>\n",
       "      <td>323.68</td>\n",
       "      <td>648.24</td>\n",
       "      <td>5,405,900</td>\n",
       "    </tr>\n",
       "    <tr>\n",
       "      <th>4</th>\n",
       "      <td>1/9/2012</td>\n",
       "      <td>322.04</td>\n",
       "      <td>322.29</td>\n",
       "      <td>309.46</td>\n",
       "      <td>620.76</td>\n",
       "      <td>11,688,800</td>\n",
       "    </tr>\n",
       "  </tbody>\n",
       "</table>\n",
       "</div>"
      ],
      "text/plain": [
       "       Date    Open    High     Low   Close      Volume\n",
       "0  1/3/2012  325.25  332.83  324.97  663.59   7,380,500\n",
       "1  1/4/2012  331.27  333.87  329.08  666.45   5,749,400\n",
       "2  1/5/2012  329.83  330.75  326.89  657.21   6,590,300\n",
       "3  1/6/2012  328.34  328.77  323.68  648.24   5,405,900\n",
       "4  1/9/2012  322.04  322.29  309.46  620.76  11,688,800"
      ]
     },
     "execution_count": 4,
     "metadata": {},
     "output_type": "execute_result"
    }
   ],
   "source": [
    "data = pd.read_csv('Google_train_data.csv')\n",
    "data.head()"
   ]
  },
  {
   "cell_type": "code",
   "execution_count": 5,
   "metadata": {
    "colab": {
     "base_uri": "https://localhost:8080/"
    },
    "executionInfo": {
     "elapsed": 1861,
     "status": "ok",
     "timestamp": 1652157413797,
     "user": {
      "displayName": "Prashant Katiyar",
      "userId": "08877928266948882279"
     },
     "user_tz": -330
    },
    "id": "iza8AMSoyaKG",
    "outputId": "e7713308-3c77-4849-f8af-bcdd6e55e14a"
   },
   "outputs": [
    {
     "name": "stdout",
     "output_type": "stream",
     "text": [
      "<class 'pandas.core.frame.DataFrame'>\n",
      "RangeIndex: 1258 entries, 0 to 1257\n",
      "Data columns (total 6 columns):\n",
      " #   Column  Non-Null Count  Dtype  \n",
      "---  ------  --------------  -----  \n",
      " 0   Date    1258 non-null   object \n",
      " 1   Open    1258 non-null   float64\n",
      " 2   High    1258 non-null   float64\n",
      " 3   Low     1258 non-null   float64\n",
      " 4   Close   1258 non-null   object \n",
      " 5   Volume  1258 non-null   object \n",
      "dtypes: float64(3), object(3)\n",
      "memory usage: 59.1+ KB\n"
     ]
    }
   ],
   "source": [
    "data.info()"
   ]
  },
  {
   "cell_type": "code",
   "execution_count": 6,
   "metadata": {
    "executionInfo": {
     "elapsed": 511,
     "status": "ok",
     "timestamp": 1652157423708,
     "user": {
      "displayName": "Prashant Katiyar",
      "userId": "08877928266948882279"
     },
     "user_tz": -330
    },
    "id": "isF1nF_bygYH"
   },
   "outputs": [],
   "source": [
    "data[\"Close\"]=pd.to_numeric(data.Close,errors='coerce')\n",
    "data = data.dropna()\n",
    "trainData = data.iloc[:,4:5].values"
   ]
  },
  {
   "cell_type": "code",
   "execution_count": 7,
   "metadata": {
    "colab": {
     "base_uri": "https://localhost:8080/"
    },
    "executionInfo": {
     "elapsed": 528,
     "status": "ok",
     "timestamp": 1652157429257,
     "user": {
      "displayName": "Prashant Katiyar",
      "userId": "08877928266948882279"
     },
     "user_tz": -330
    },
    "id": "aU-v84QDyphM",
    "outputId": "3708551d-09ee-43db-a8df-ec512d263a45"
   },
   "outputs": [
    {
     "name": "stdout",
     "output_type": "stream",
     "text": [
      "<class 'pandas.core.frame.DataFrame'>\n",
      "Int64Index: 1149 entries, 0 to 1257\n",
      "Data columns (total 6 columns):\n",
      " #   Column  Non-Null Count  Dtype  \n",
      "---  ------  --------------  -----  \n",
      " 0   Date    1149 non-null   object \n",
      " 1   Open    1149 non-null   float64\n",
      " 2   High    1149 non-null   float64\n",
      " 3   Low     1149 non-null   float64\n",
      " 4   Close   1149 non-null   float64\n",
      " 5   Volume  1149 non-null   object \n",
      "dtypes: float64(4), object(2)\n",
      "memory usage: 62.8+ KB\n"
     ]
    }
   ],
   "source": [
    "data.info()"
   ]
  },
  {
   "cell_type": "code",
   "execution_count": 8,
   "metadata": {
    "colab": {
     "base_uri": "https://localhost:8080/"
    },
    "executionInfo": {
     "elapsed": 562,
     "status": "ok",
     "timestamp": 1652157433687,
     "user": {
      "displayName": "Prashant Katiyar",
      "userId": "08877928266948882279"
     },
     "user_tz": -330
    },
    "id": "KmgIl-qtytRJ",
    "outputId": "2a2a47b0-8dcc-4fd8-e303-3d4e97a8dadd"
   },
   "outputs": [
    {
     "data": {
      "text/plain": [
       "(1149, 1)"
      ]
     },
     "execution_count": 8,
     "metadata": {},
     "output_type": "execute_result"
    }
   ],
   "source": [
    "sc = MinMaxScaler(feature_range=(0,1))\n",
    "trainData = sc.fit_transform(trainData)\n",
    "trainData.shape"
   ]
  },
  {
   "cell_type": "code",
   "execution_count": 9,
   "metadata": {
    "executionInfo": {
     "elapsed": 562,
     "status": "ok",
     "timestamp": 1652157436716,
     "user": {
      "displayName": "Prashant Katiyar",
      "userId": "08877928266948882279"
     },
     "user_tz": -330
    },
    "id": "iWdK_y4jyzMW"
   },
   "outputs": [],
   "source": [
    "X_train = []\n",
    "y_train = []\n",
    "\n",
    "for i in range (60,1149): #60 : timestep // 1149 : length of the data\n",
    "    X_train.append(trainData[i-60:i,0]) \n",
    "    y_train.append(trainData[i,0])\n",
    "\n",
    "X_train,y_train = np.array(X_train),np.array(y_train)"
   ]
  },
  {
   "cell_type": "code",
   "execution_count": 10,
   "metadata": {
    "executionInfo": {
     "elapsed": 2653,
     "status": "ok",
     "timestamp": 1652157442664,
     "user": {
      "displayName": "Prashant Katiyar",
      "userId": "08877928266948882279"
     },
     "user_tz": -330
    },
    "id": "8D2Lm_Kvy4U7"
   },
   "outputs": [],
   "source": [
    "model = Sequential()\n",
    "\n",
    "model.add(LSTM(units=100, return_sequences = True, input_shape =(X_train.shape[1],1)))\n",
    "model.add(Dropout(0.2))\n",
    "\n",
    "model.add(LSTM(units=100, return_sequences = True))\n",
    "model.add(Dropout(0.2))\n",
    "\n",
    "model.add(LSTM(units=100, return_sequences = True))\n",
    "model.add(Dropout(0.2))\n",
    "\n",
    "model.add(LSTM(units=100, return_sequences = False))\n",
    "model.add(Dropout(0.2))\n",
    "\n",
    "model.add(Dense(units =1))\n",
    "model.compile(optimizer='adam',loss=\"mean_squared_error\")"
   ]
  },
  {
   "cell_type": "code",
   "execution_count": 11,
   "metadata": {
    "colab": {
     "base_uri": "https://localhost:8080/"
    },
    "executionInfo": {
     "elapsed": 166338,
     "status": "ok",
     "timestamp": 1652125490740,
     "user": {
      "displayName": "Prashant Katiyar",
      "userId": "08877928266948882279"
     },
     "user_tz": -330
    },
    "id": "TFVu2sNwy-jb",
    "outputId": "124950a9-a03d-49bf-cac8-04c5ae32635f"
   },
   "outputs": [
    {
     "name": "stdout",
     "output_type": "stream",
     "text": [
      "Epoch 1/20\n",
      "35/35 - 14s - loss: 0.0302 - 14s/epoch - 408ms/step\n",
      "Epoch 2/20\n",
      "35/35 - 5s - loss: 0.0115 - 5s/epoch - 157ms/step\n",
      "Epoch 3/20\n",
      "35/35 - 6s - loss: 0.0095 - 6s/epoch - 163ms/step\n",
      "Epoch 4/20\n",
      "35/35 - 5s - loss: 0.0088 - 5s/epoch - 154ms/step\n",
      "Epoch 5/20\n",
      "35/35 - 5s - loss: 0.0115 - 5s/epoch - 144ms/step\n",
      "Epoch 6/20\n",
      "35/35 - 5s - loss: 0.0071 - 5s/epoch - 153ms/step\n",
      "Epoch 7/20\n",
      "35/35 - 5s - loss: 0.0069 - 5s/epoch - 151ms/step\n",
      "Epoch 8/20\n",
      "35/35 - 5s - loss: 0.0065 - 5s/epoch - 145ms/step\n",
      "Epoch 9/20\n",
      "35/35 - 8s - loss: 0.0060 - 8s/epoch - 235ms/step\n",
      "Epoch 10/20\n",
      "35/35 - 7s - loss: 0.0066 - 7s/epoch - 192ms/step\n",
      "Epoch 11/20\n",
      "35/35 - 6s - loss: 0.0058 - 6s/epoch - 163ms/step\n",
      "Epoch 12/20\n",
      "35/35 - 6s - loss: 0.0063 - 6s/epoch - 167ms/step\n",
      "Epoch 13/20\n",
      "35/35 - 5s - loss: 0.0049 - 5s/epoch - 143ms/step\n",
      "Epoch 14/20\n",
      "35/35 - 5s - loss: 0.0060 - 5s/epoch - 156ms/step\n",
      "Epoch 15/20\n",
      "35/35 - 5s - loss: 0.0064 - 5s/epoch - 156ms/step\n",
      "Epoch 16/20\n",
      "35/35 - 5s - loss: 0.0059 - 5s/epoch - 154ms/step\n",
      "Epoch 17/20\n",
      "35/35 - 6s - loss: 0.0050 - 6s/epoch - 175ms/step\n",
      "Epoch 18/20\n",
      "35/35 - 5s - loss: 0.0052 - 5s/epoch - 152ms/step\n",
      "Epoch 19/20\n",
      "35/35 - 5s - loss: 0.0047 - 5s/epoch - 147ms/step\n",
      "Epoch 20/20\n",
      "35/35 - 5s - loss: 0.0044 - 5s/epoch - 153ms/step\n"
     ]
    }
   ],
   "source": [
    "hist = model.fit(X_train, y_train, epochs = 20, batch_size = 32, verbose=2)"
   ]
  },
  {
   "cell_type": "code",
   "execution_count": 12,
   "metadata": {
    "colab": {
     "base_uri": "https://localhost:8080/",
     "height": 295
    },
    "executionInfo": {
     "elapsed": 36,
     "status": "ok",
     "timestamp": 1652125490742,
     "user": {
      "displayName": "Prashant Katiyar",
      "userId": "08877928266948882279"
     },
     "user_tz": -330
    },
    "id": "YR5YJlRDzKCw",
    "outputId": "0ebe786f-76a7-404a-b0fa-074e01dff954"
   },
   "outputs": [
    {
     "data": {
      "image/png": "[encoded data removed]",
      "text/plain": [
       "<Figure size 640x480 with 1 Axes>"
      ]
     },
     "metadata": {},
     "output_type": "display_data"
    }
   ],
   "source": [
    "plt.plot(hist.history['loss'])\n",
    "plt.title('Training model loss')\n",
    "plt.ylabel('loss')\n",
    "plt.xlabel('epoch')\n",
    "plt.legend(['train'], loc='upper left')\n",
    "plt.show()"
   ]
  },
  {
   "cell_type": "code",
   "execution_count": 13,
   "metadata": {
    "colab": {
     "base_uri": "https://localhost:8080/"
    },
    "executionInfo": {
     "elapsed": 14,
     "status": "ok",
     "timestamp": 1652125494743,
     "user": {
      "displayName": "Prashant Katiyar",
      "userId": "08877928266948882279"
     },
     "user_tz": -330
    },
    "id": "aDocubgZzY_E",
    "outputId": "1b16a2cc-4ef2-49f6-f885-e89ed57d3b8f"
   },
   "outputs": [
    {
     "data": {
      "text/plain": [
       "(1089, 60, 1)"
      ]
     },
     "execution_count": 13,
     "metadata": {},
     "output_type": "execute_result"
    }
   ],
   "source": [
    "testData = pd.read_csv('Google_test_data.csv')\n",
    "testData[\"Close\"]=pd.to_numeric(testData.Close,errors='coerce')\n",
    "testData = testData.dropna()\n",
    "testData = testData.iloc[:,4:5]\n",
    "y_test = testData.iloc[60:,0:].values \n",
    "#input array for the model\n",
    "inputClosing = testData.iloc[:,0:].values \n",
    "inputClosing_scaled = sc.transform(inputClosing)\n",
    "inputClosing_scaled.shape\n",
    "X_test = []\n",
    "length = len(testData)\n",
    "timestep = 60\n",
    "for i in range(timestep,length):  \n",
    "    X_test.append(inputClosing_scaled[i-timestep:i,0])\n",
    "X_test = np.array(X_test)\n",
    "X_test = np.reshape(X_test,(X_test.shape[0],X_test.shape[1],1))\n",
    "X_test.shape"
   ]
  },
  {
   "cell_type": "code",
   "execution_count": 14,
   "metadata": {
    "colab": {
     "base_uri": "https://localhost:8080/"
    },
    "executionInfo": {
     "elapsed": 2696,
     "status": "ok",
     "timestamp": 1652125500482,
     "user": {
      "displayName": "Prashant Katiyar",
      "userId": "08877928266948882279"
     },
     "user_tz": -330
    },
    "id": "bZPTjkVCz3kJ",
    "outputId": "5cab092b-c1f2-41d5-dc99-c4c7c33746ff"
   },
   "outputs": [
    {
     "name": "stdout",
     "output_type": "stream",
     "text": [
      "35/35 [==============================] - 4s 52ms/step\n"
     ]
    },
    {
     "data": {
      "text/plain": [
       "array([[0.3488335 ],\n",
       "       [0.35383797],\n",
       "       [0.35567316],\n",
       "       ...,\n",
       "       [0.6693639 ],\n",
       "       [0.6648608 ],\n",
       "       [0.65992415]], dtype=float32)"
      ]
     },
     "execution_count": 14,
     "metadata": {},
     "output_type": "execute_result"
    }
   ],
   "source": [
    "y_pred = model.predict(X_test)\n",
    "y_pred"
   ]
  },
  {
   "cell_type": "code",
   "execution_count": 15,
   "metadata": {
    "executionInfo": {
     "elapsed": 378,
     "status": "ok",
     "timestamp": 1652125503158,
     "user": {
      "displayName": "Prashant Katiyar",
      "userId": "08877928266948882279"
     },
     "user_tz": -330
    },
    "id": "RYl5TePUz9U_"
   },
   "outputs": [],
   "source": [
    "predicted_price = sc.inverse_transform(y_pred)"
   ]
  },
  {
   "cell_type": "code",
   "execution_count": 16,
   "metadata": {
    "colab": {
     "base_uri": "https://localhost:8080/",
     "height": 310
    },
    "executionInfo": {
     "elapsed": 1802,
     "status": "ok",
     "timestamp": 1652125543251,
     "user": {
      "displayName": "Prashant Katiyar",
      "userId": "08877928266948882279"
     },
     "user_tz": -330
    },
    "id": "Ubmh28bk0Day",
    "outputId": "2e67f7be-1a5d-4dd3-9c13-6d206ca7699f"
   },
   "outputs": [
    {
     "data": {
      "image/png": "[encoded data removed]",
      "text/plain": [
       "<Figure size 640x480 with 1 Axes>"
      ]
     },
     "metadata": {},
     "output_type": "display_data"
    }
   ],
   "source": [
    "plt.plot(y_test, color = 'red', label = 'Actual Stock Price')\n",
    "plt.plot(predicted_price, color = 'green', label = 'Predicted Stock Price')\n",
    "plt.title('Google stock price prediction\\n Made By Aditya Kumar Singh and Dipti Singh')\n",
    "plt.xlabel('Time')\n",
    "plt.ylabel('Stock Price')\n",
    "plt.legend()\n",
    "plt.show()"
   ]
  },
  {
   "cell_type": "code",
   "execution_count": null,
   "metadata": {},
   "outputs": [],
   "source": []
  },
  {
   "cell_type": "code",
   "execution_count": null,
   "metadata": {
    "id": "QNVTWDJE0HhD"
   },
   "outputs": [],
   "source": []
  },
  {
   "cell_type": "code",
   "execution_count": null,
   "metadata": {},
   "outputs": [],
   "source": []
  },
  {
   "cell_type": "code",
   "execution_count": null,
   "metadata": {},
   "outputs": [],
   "source": []
  },
  {
   "cell_type": "code",
   "execution_count": null,
   "metadata": {},
   "outputs": [],
   "source": []
  },
  {
   "cell_type": "code",
   "execution_count": null,
   "metadata": {},
   "outputs": [],
   "source": []
  }
 ],
 "metadata": {
  "colab": {
   "authorship_tag": "ABX9TyOmsoRwMYwRcUzc56QYCILJ",
   "name": "Stock market prediction using ML&LSTM.ipynb",
   "provenance": []
  },
  "kernelspec": {
   "display_name": "Python 3 (ipykernel)",
   "language": "python",
   "name": "python3"
  },
  "language_info": {
   "codemirror_mode": {
    "name": "ipython",
    "version": 3
   },
   "file_extension": ".py",
   "mimetype": "text/x-python",
   "name": "python",
   "nbconvert_exporter": "python",
   "pygments_lexer": "ipython3",
   "version": "3.9.13"
  }
 },
 "nbformat": 4,
 "nbformat_minor": 1
}
